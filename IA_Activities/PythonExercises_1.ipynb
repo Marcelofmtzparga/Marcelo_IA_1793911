{
  "nbformat": 4,
  "nbformat_minor": 0,
  "metadata": {
    "colab": {
      "provenance": [],
      "authorship_tag": "ABX9TyNxS6ZlEYoB61GuQ3KBRuzr",
      "include_colab_link": true
    },
    "kernelspec": {
      "name": "python3",
      "display_name": "Python 3"
    },
    "language_info": {
      "name": "python"
    }
  },
  "cells": [
    {
      "cell_type": "markdown",
      "metadata": {
        "id": "view-in-github",
        "colab_type": "text"
      },
      "source": [
        "<a href=\"https://colab.research.google.com/github/Marcelofmtzparga/Marcelo_IA_1793911/blob/main/IA_Activities/PythonExercises_1.ipynb\" target=\"_parent\"><img src=\"https://colab.research.google.com/assets/colab-badge.svg\" alt=\"Open In Colab\"/></a>"
      ]
    },
    {
      "cell_type": "markdown",
      "source": [
        "Marcelo Fabrissio Martínez Parga\n",
        "1793911\n",
        "Artificial Intelligence\n",
        "N4 Thursday\n",
        "A2.- Python exercises"
      ],
      "metadata": {
        "id": "IxQDYXLQGgci"
      }
    },
    {
      "cell_type": "markdown",
      "source": [
        "1. Text Analysis Tool"
      ],
      "metadata": {
        "id": "XfMhQCZhJaL6"
      }
    },
    {
      "cell_type": "code",
      "source": [
        "import string\n",
        "from google.colab import files\n",
        "from collections import Counter\n",
        "\n",
        "uploaded = files.upload()\n",
        "\n",
        "def read_file(file_name):\n",
        "    with open(file_name, 'r') as f:\n",
        "        return f.read()\n",
        "\n",
        "def word_count(text):\n",
        "    words = [word.strip(string.punctuation).lower() for word in text.split()]\n",
        "    return len(words), words\n",
        "\n",
        "def sentence_count(text):\n",
        "    # Assuming sentences are ended by '.', '!' or '?'\n",
        "    return len([sentence for sentence in text.split('.') if sentence.strip()])\n",
        "\n",
        "def paragraph_count(text):\n",
        "    return len([para for para in text.split('\\n') if para.strip()])\n",
        "\n",
        "def average_word_length(words):\n",
        "    return sum([len(word) for word in words]) / len(words)\n",
        "\n",
        "def most_common_words(words, n=10):\n",
        "    word_freq = Counter(words)\n",
        "    return word_freq.most_common(n)\n",
        "\n",
        "def main():\n",
        "    file_name = input(\"Enter the file name: \")\n",
        "    text = read_file(file_name)\n",
        "\n",
        "    total_words, words = word_count(text)\n",
        "    total_sentences = sentence_count(text)\n",
        "    total_paragraphs = paragraph_count(text)\n",
        "    avg_word_len = average_word_length(words)\n",
        "    common_words = most_common_words(words)\n",
        "\n",
        "    print(\"\\nText Analysis:\")\n",
        "    print(f\"Total Words: {total_words}\")\n",
        "    print(f\"Total Sentences: {total_sentences}\")\n",
        "    print(f\"Total Paragraphs: {total_paragraphs}\")\n",
        "    print(f\"Average Word Length: {avg_word_len:.2f}\")\n",
        "    print(\"\\nMost Common Words:\")\n",
        "    for word, freq in common_words:\n",
        "        print(f\"{word}: {freq}\")\n",
        "\n",
        "if __name__ == \"__main__\":\n",
        "    main()\n"
      ],
      "metadata": {
        "id": "3BOeT3o0GjCZ"
      },
      "execution_count": null,
      "outputs": []
    },
    {
      "cell_type": "markdown",
      "source": [
        "2. Hangman Game"
      ],
      "metadata": {
        "id": "Rk_XFrYvGkLw"
      }
    },
    {
      "cell_type": "code",
      "source": [
        "import random\n",
        "\n",
        "def choose_word():\n",
        "    word_list = ['marcelo', 'fabrissio', 'martinez', 'parga', 'biomedical', 'engineer']\n",
        "    return random.choice(word_list)\n",
        "\n",
        "def display_word(word, guessed_letters):\n",
        "    return ''.join([letter if letter in guessed_letters else '_' for letter in word])\n",
        "\n",
        "def hangman():\n",
        "    word_to_guess = choose_word()\n",
        "    guessed_letters = set()\n",
        "    attempts = 15\n",
        "\n",
        "    print(\"Welcome to Hangman!\")\n",
        "\n",
        "    while attempts > 0:\n",
        "        print(display_word(word_to_guess, guessed_letters))\n",
        "        guess = input(\"Guess a letter: \")\n",
        "\n",
        "        if len(guess) != 1:\n",
        "            print(\"Please enter only one letter.\")\n",
        "            continue\n",
        "\n",
        "        if guess in guessed_letters:\n",
        "            print(\"You already guessed that letter.\")\n",
        "            continue\n",
        "\n",
        "        if guess in word_to_guess:\n",
        "            guessed_letters.add(guess)\n",
        "        else:\n",
        "            print(f\"Letter {guess} is not in the word. You lose one attempt.\")\n",
        "            attempts -= 1\n",
        "\n",
        "        if set(word_to_guess) <= guessed_letters:\n",
        "            print(\"Congratulations! You've guessed the word:\", word_to_guess)\n",
        "            break\n",
        "\n",
        "    else:\n",
        "        print(\"You've run out of attempts. The word was:\", word_to_guess)\n",
        "\n",
        "# Run the game\n",
        "hangman()\n"
      ],
      "metadata": {
        "id": "tCYN0zVCGoDa"
      },
      "execution_count": null,
      "outputs": []
    },
    {
      "cell_type": "markdown",
      "source": [
        "3. Number Guessing Game"
      ],
      "metadata": {
        "id": "pgO0LbVWGosu"
      }
    },
    {
      "cell_type": "code",
      "source": [
        "import random\n",
        "\n",
        "def guess_the_number():\n",
        "    target_number = random.randint(1, 100)\n",
        "    attempts = 0\n",
        "\n",
        "    print(\"Guess the number between 1 and 100!\")\n",
        "\n",
        "    while True:\n",
        "        try:\n",
        "            user_guess = int(input(\"Enter your guess: \"))\n",
        "\n",
        "            if 1 <= user_guess <= 100:\n",
        "                attempts += 1\n",
        "\n",
        "                if user_guess < target_number:\n",
        "                    print(\"Go higher!\")\n",
        "                elif user_guess > target_number:\n",
        "                    print(\"Go lower!\")\n",
        "                else:\n",
        "                    print(f\"Congratulations! You guessed the number {target_number} in {attempts} attempts.\")\n",
        "                    break\n",
        "            else:\n",
        "                print(\"Please enter a number between 1 and 100.\")\n",
        "\n",
        "        except ValueError:\n",
        "            print(\"Please enter a valid number.\")\n",
        "\n",
        "# Run the game\n",
        "guess_the_number()\n"
      ],
      "metadata": {
        "id": "WISRzSDcGsC4"
      },
      "execution_count": null,
      "outputs": []
    }
  ]
}
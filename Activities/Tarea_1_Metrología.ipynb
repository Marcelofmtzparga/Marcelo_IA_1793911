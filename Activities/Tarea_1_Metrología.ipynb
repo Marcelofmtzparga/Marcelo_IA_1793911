{
  "nbformat": 4,
  "nbformat_minor": 0,
  "metadata": {
    "colab": {
      "provenance": [],
      "authorship_tag": "ABX9TyM3lb2n4VBwO8w7INuwmiEt",
      "include_colab_link": true
    },
    "kernelspec": {
      "name": "python3",
      "display_name": "Python 3"
    },
    "language_info": {
      "name": "python"
    }
  },
  "cells": [
    {
      "cell_type": "markdown",
      "metadata": {
        "id": "view-in-github",
        "colab_type": "text"
      },
      "source": [
        "<a href=\"https://colab.research.google.com/github/Marcelofmtzparga/Marcelo_IA_1793911/blob/main/Activities/Tarea_1_Metrolog%C3%ADa.ipynb\" target=\"_parent\"><img src=\"https://colab.research.google.com/assets/colab-badge.svg\" alt=\"Open In Colab\"/></a>"
      ]
    },
    {
      "cell_type": "code",
      "execution_count": null,
      "metadata": {
        "id": "ChHcGSLxfhyd"
      },
      "outputs": [],
      "source": [
        "fgdgdyhdhyrdr\n"
      ]
    }
  ]
}